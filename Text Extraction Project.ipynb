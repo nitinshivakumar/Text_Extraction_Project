{
 "cells": [
  {
   "cell_type": "code",
   "execution_count": 129,
   "id": "76912b02-1bd4-4eed-b91b-d04fab406be2",
   "metadata": {},
   "outputs": [],
   "source": [
    "# Import Libraries\n",
    "\n",
    "import cv2\n",
    "import numpy as np"
   ]
  },
  {
   "cell_type": "code",
   "execution_count": 131,
   "id": "d140acad-dd84-4925-b350-e2804db72e9f",
   "metadata": {},
   "outputs": [],
   "source": [
    "# Load the image using OpenCV\n",
    "img = cv2.imread('image2.png')\n",
    "\n",
    "# Function to convert the image to grayscale\n",
    "def get_grayscale(image):\n",
    "    return cv2.cvtColor(image, cv2.COLOR_BGR2GRAY)\n",
    "\n",
    "# Function to resize the image\n",
    "def resize_image(image):\n",
    "    height, width = image.shape\n",
    "    resized_img = cv2.resize(image, (width * 2, height * 2))\n",
    "    return resized_img\n",
    "\n",
    "# Function to remove noise from the image using median blur\n",
    "def remove_noise(image):\n",
    "    return cv2.medianBlur(image, 3)\n",
    "\n",
    "# Function for thresholding to create a binary image\n",
    "def thresholding(image):\n",
    "    return cv2.threshold(image, 0, 255, cv2.THRESH_BINARY + cv2.THRESH_OTSU)[1]\n",
    "\n",
    "# Function for dilation to enhance features in the image\n",
    "def dilate(image):\n",
    "    kernel = np.ones((5, 5), np.uint8)\n",
    "    return cv2.dilate(image, kernel, iterations=1)\n",
    "\n",
    "# Function for erosion to reduce the size of objects in the image\n",
    "def erode(image):\n",
    "    kernel = np.ones((5, 5), np.uint8)\n",
    "    return cv2.erode(image, kernel, iterations=1)\n",
    "\n",
    "# Function for opening (erosion followed by dilation)\n",
    "def opening(image):\n",
    "    kernel = np.ones((5, 5), np.uint8)\n",
    "    return cv2.morphologyEx(image, cv2.MORPH_OPEN, kernel)\n",
    "\n",
    "# Function for Canny edge detection\n",
    "def canny(image):\n",
    "    return cv2.Canny(image, 100, 200)\n",
    "\n",
    "# Function for deskewing (correcting skewness) in the image\n",
    "def deskew(image):\n",
    "    coords = np.column_stack(np.where(image > 0))\n",
    "    angle = cv2.minAreaRect(coords)[-1]\n",
    "    if angle < -45:\n",
    "        angle = -(90 + angle)\n",
    "    else:\n",
    "        angle = -angle\n",
    "    (h, w) = image.shape[:2]\n",
    "    center = (w // 2, h // 2)\n",
    "    M = cv2.getRotationMatrix2D(center, angle, 1.0)\n",
    "    rotated = cv2.warpAffine(image, M, (w, h), flags=cv2.INTER_CUBIC, borderMode=cv2.BORDER_REPLICATE)\n",
    "    return rotated\n",
    "\n",
    "# Function to display an image using OpenCV\n",
    "def call_func(image):\n",
    "    cv2.imshow('sample image', image)\n",
    "    cv2.waitKey(0)\n",
    "    cv2.destroyAllWindows()"
   ]
  },
  {
   "cell_type": "code",
   "execution_count": 132,
   "id": "0449982f-5ec7-4b45-ad69-874d262be72a",
   "metadata": {},
   "outputs": [
    {
     "name": "stdout",
     "output_type": "stream",
     "text": [
      "It was the best of\n",
      "times, it was the worst\n",
      "of times, it was the age\n",
      "of wisdom, it was the\n",
      "age of foolishness...\n",
      "\n"
     ]
    }
   ],
   "source": [
    "gray = get_grayscale(img)\n",
    "resize_image = resize_image(gray)\n",
    "thresh = thresholding(resize_image)\n",
    "\n",
    "custom_config = r'--psm 6 --oem 3 -l eng'\n",
    "text = pytesseract.image_to_string(thresh, config=custom_config)\n",
    "\n",
    "print(text)"
   ]
  },
  {
   "cell_type": "code",
   "execution_count": null,
   "id": "59ed14a4-5aaf-400c-93cb-480de5fbbb86",
   "metadata": {},
   "outputs": [],
   "source": []
  }
 ],
 "metadata": {
  "kernelspec": {
   "display_name": "Python 3 (ipykernel)",
   "language": "python",
   "name": "python3"
  },
  "language_info": {
   "codemirror_mode": {
    "name": "ipython",
    "version": 3
   },
   "file_extension": ".py",
   "mimetype": "text/x-python",
   "name": "python",
   "nbconvert_exporter": "python",
   "pygments_lexer": "ipython3",
   "version": "3.10.13"
  }
 },
 "nbformat": 4,
 "nbformat_minor": 5
}
